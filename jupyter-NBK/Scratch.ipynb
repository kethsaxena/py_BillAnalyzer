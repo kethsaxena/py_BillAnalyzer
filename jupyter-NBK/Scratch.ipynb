{
 "cells": [
  {
   "cell_type": "markdown",
   "id": "cfa7f422-ec3d-4a4a-87e3-c6c385d30664",
   "metadata": {},
   "source": [
    "# IMPORTS"
   ]
  },
  {
   "cell_type": "code",
   "execution_count": 2,
   "id": "17d3917a-dde2-4327-9d37-7039ed316885",
   "metadata": {},
   "outputs": [],
   "source": [
    "from pdfreader import PDFDocument, SimplePDFViewer\n",
    "import pandas as pd\n",
    "import os\n",
    "import re\n",
    "import pandas as pd\n",
    "import unittest"
   ]
  },
  {
   "cell_type": "markdown",
   "id": "bc81f2d9-5cd3-4d17-83ca-284b35a73c1c",
   "metadata": {},
   "source": [
    "# CODE "
   ]
  },
  {
   "cell_type": "code",
   "execution_count": 6,
   "id": "2df40b63-771a-460b-8433-2aea6318f9e6",
   "metadata": {},
   "outputs": [
    {
     "name": "stdout",
     "output_type": "stream",
     "text": [
      "/mnt/c/projects/python/01_billAnalyzer/jupyter-NBK\n"
     ]
    }
   ],
   "source": [
    "print(os.getcwd())"
   ]
  },
  {
   "cell_type": "code",
   "execution_count": 7,
   "id": "93d05bd9-9c32-4d73-8c0a-12ce26dfc685",
   "metadata": {},
   "outputs": [],
   "source": [
    "os.chdir(\"/mnt/c/projects/python/01_billAnalyzer/\")"
   ]
  },
  {
   "cell_type": "code",
   "execution_count": 8,
   "id": "aeb92733-508e-4b01-9561-d5308aca430a",
   "metadata": {},
   "outputs": [
    {
     "name": "stdout",
     "output_type": "stream",
     "text": [
      "/mnt/c/projects/python/01_billAnalyzer/data/09_September_Oct_2023.pdf\n"
     ]
    }
   ],
   "source": [
    "pdf_file = \"09_September_Oct_2023.pdf\"\n",
    "path=os.getcwd()+\"/data/\"+pdf_file\n",
    "print(path)"
   ]
  },
  {
   "cell_type": "code",
   "execution_count": 37,
   "id": "f32b1e54-e729-4d95-b3b6-ec6f0eae5d3e",
   "metadata": {},
   "outputs": [],
   "source": [
    "# Functions\n",
    "###########################\n",
    "def filter_regl(regex,biglist):\n",
    "    return [item for item in biglist if re.match(regex,item)]\n",
    "def filter_lsubl(sList, bList):\n",
    "    return [itemB for itemB in bList for itemS in sList if re.match(itemS,itemB)]\n",
    "def get_filtered_numl():\n",
    "    return numeric\n",
    "\n",
    "def get_filtered_stringl():\n",
    "    return strings\n",
    "###########################\n",
    "with open(path, 'rb') as f:\n",
    "    # Create a PDF reader object\n",
    "    doc = PDFDocument(f)\n",
    "    all_pages = [p for p in doc.pages()]\n",
    "    viewer = SimplePDFViewer(f)\n",
    "    viewer.navigate(1)\n",
    "    viewer.render()\n",
    "    \n",
    "    #Extract Page 1 data \n",
    "    page_1_canvas = viewer.canvas\n",
    "    page_text = page_1_canvas.text_content\n",
    "    page_strings = page_1_canvas.strings \n",
    "    #print(page_strings) \n",
    "    # Extract Page 1 Numbers \n",
    "    #Remove all decimalnumbers \n",
    "    for i,val in enumerate(page_strings):\n",
    "        #expr = r'(Previous balance)'\n",
    "        expr = r'(\\$0.00)'\n",
    "        #print(val)\n",
    "        if re.match(expr,val):\n",
    "            page_strings.pop(i)\n",
    "    numeric =[]\n",
    "    #Remove all dates\n",
    "    for i,val in enumerate(page_strings):\n",
    "        expr = r'([\\d$,.])(?!\\d{1,2}\\/\\d{1,2}\\/\\d{1,2})'\n",
    "        if re.match(expr,val):\n",
    "            if len(val)<10 and len(val)>1:\n",
    "                numeric.append(val)              \n",
    "    numeric = list(dict.fromkeys(numeric))\n",
    "    numeric = numeric[:-4]\n",
    "    #String Extraction\n",
    "    # for i,val in enumerate(page_strings):\n",
    "    #     expr = r'([\\w])'\n",
    "    #     if re.match(expr,val):\n",
    "    #         print(i,val)\n",
    "    \n",
    "    # Filter all words\n",
    "    page_string_words = filter_regl(r'([\\w])',page_strings)\n",
    "    #print(page_string_words)\n",
    "    # Get Relevant Strings\n",
    "    filter = [\"Previous\",\"Payments\",\"Credits\",\"Purchase\", \"Cash\",\"Interest\"]\n",
    "    strings = filter_lsubl(filter,page_string_words)\n",
    "    strings =  strings[:-2]\n",
    "    \n",
    "    \n",
    "    \n",
    "    # df = pd.DataFrame()\n",
    "    # df[\"Amt_Type\"]=strings\n",
    "    # #print(numeric)\n",
    "    # df[\"Amt\"]=numeric\n",
    "    # print(df)\n",
    "\n",
    " \n",
    "    # # #print(viewer.metadata)\n",
    "    # for canvas in viewer:\n",
    "    #     page_text = canvas.text_content\n",
    "    #     print(page_text)"
   ]
  },
  {
   "cell_type": "markdown",
   "id": "c9a5a249-568e-460c-810c-0f33962d144f",
   "metadata": {},
   "source": [
    "# TESTS"
   ]
  },
  {
   "cell_type": "code",
   "execution_count": 35,
   "id": "84fc934e-ec6f-4275-966e-3551b659c0f0",
   "metadata": {},
   "outputs": [
    {
     "name": "stderr",
     "output_type": "stream",
     "text": [
      "..\n",
      "----------------------------------------------------------------------\n",
      "Ran 2 tests in 0.001s\n",
      "\n",
      "OK\n"
     ]
    }
   ],
   "source": [
    "# Test case class\n",
    "class TestpyBillAnalyzer(unittest.TestCase):\n",
    "     # Length of Numeric List & String lest should be equal\n",
    "    def test_List_numericlength_validation(self):\n",
    "        result = get_filtered_numl()\n",
    "        #print(result)\n",
    "        expected_length_list = 4\n",
    "        self.assertEqual(len(result), expected_length_list,\"Numeric Length of list not equal\")\n",
    "    def test_List_stringlength_validation(self):\n",
    "        result = get_filtered_stringl()\n",
    "        expected_length_list = 4\n",
    "        self.assertEqual(len(result), expected_length_list,\"String Length of List not equal\")\n",
    "\n",
    "\n",
    "if __name__ == '__main__':\n",
    "    unittest.main(argv=['first-arg-is-ignored'], exit=False)"
   ]
  },
  {
   "cell_type": "code",
   "execution_count": null,
   "id": "5c4b2842-7028-4066-873c-74c57af21aa2",
   "metadata": {},
   "outputs": [],
   "source": []
  }
 ],
 "metadata": {
  "kernelspec": {
   "display_name": "Python 3 (ipykernel)",
   "language": "python",
   "name": "python3"
  },
  "language_info": {
   "codemirror_mode": {
    "name": "ipython",
    "version": 3
   },
   "file_extension": ".py",
   "mimetype": "text/x-python",
   "name": "python",
   "nbconvert_exporter": "python",
   "pygments_lexer": "ipython3",
   "version": "3.10.12"
  }
 },
 "nbformat": 4,
 "nbformat_minor": 5
}
