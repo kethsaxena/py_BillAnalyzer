{
 "cells": [
  {
   "cell_type": "code",
   "execution_count": 63,
   "id": "17d3917a-dde2-4327-9d37-7039ed316885",
   "metadata": {},
   "outputs": [],
   "source": [
    "from pdfreader import PDFDocument, SimplePDFViewer\n",
    "import pandas as pd\n",
    "import os\n",
    "import re\n",
    "import pandas as pd"
   ]
  },
  {
   "cell_type": "code",
   "execution_count": 2,
   "id": "2df40b63-771a-460b-8433-2aea6318f9e6",
   "metadata": {},
   "outputs": [
    {
     "name": "stdout",
     "output_type": "stream",
     "text": [
      "/mnt/c/projects/python/01_billAnalyzer/jupyter-NBK\n"
     ]
    }
   ],
   "source": [
    "print(os.getcwd())"
   ]
  },
  {
   "cell_type": "code",
   "execution_count": 3,
   "id": "93d05bd9-9c32-4d73-8c0a-12ce26dfc685",
   "metadata": {},
   "outputs": [],
   "source": [
    "os.chdir(\"/mnt/c/projects/python/01_billAnalyzer/\")"
   ]
  },
  {
   "cell_type": "code",
   "execution_count": 4,
   "id": "aeb92733-508e-4b01-9561-d5308aca430a",
   "metadata": {},
   "outputs": [
    {
     "name": "stdout",
     "output_type": "stream",
     "text": [
      "/mnt/c/projects/python/01_billAnalyzer/data/09_September_Oct_2023.pdf\n"
     ]
    }
   ],
   "source": [
    "pdf_file = \"09_September_Oct_2023.pdf\"\n",
    "path=os.getcwd()+\"/data/\"+pdf_file\n",
    "print(path)"
   ]
  },
  {
   "cell_type": "code",
   "execution_count": 71,
   "id": "f32b1e54-e729-4d95-b3b6-ec6f0eae5d3e",
   "metadata": {},
   "outputs": [
    {
     "name": "stdout",
     "output_type": "stream",
     "text": [
      "0 $2,589.12\n",
      "1 $2,570.59\n",
      "2 $18.53\n",
      "3 $2,193.75\n",
      "0 Previous balance\n",
      "1 Payments\n",
      "2 Credits\n",
      "3 Purchases\n",
      "4 Cash advances\n",
      "5 Interest\n",
      "           Amt_Type        Amt\n",
      "0  Previous balance  $2,589.12\n",
      "1          Payments  $2,570.59\n",
      "2           Credits     $18.53\n",
      "3         Purchases  $2,193.75\n"
     ]
    }
   ],
   "source": [
    "with open(path, 'rb') as f:\n",
    "    # Create a PDF reader object\n",
    "    doc = PDFDocument(f)\n",
    "    all_pages = [p for p in doc.pages()]\n",
    "    viewer = SimplePDFViewer(f)\n",
    "    viewer.navigate(1)\n",
    "    viewer.render()\n",
    "    \n",
    "    #Extract Page 1 data \n",
    "    page_1_canvas = viewer.canvas\n",
    "    page_text = page_1_canvas.text_content\n",
    "    page_strings = page_1_canvas.strings \n",
    "    #print(page_strings) \n",
    "    # Extract Page 1 Numbers \n",
    "    #Remove all decimalnumbers \n",
    "    for i,val in enumerate(page_strings):\n",
    "        #expr = r'(Previous balance)'\n",
    "        expr = r'(\\$0.00)'\n",
    "        #print(val)\n",
    "        if re.match(expr,val):\n",
    "            page_strings.pop(i)\n",
    "    numeric =[]\n",
    "    #Remove all dates\n",
    "    for i,val in enumerate(page_strings):\n",
    "        expr = r'([\\d$,.])(?!\\d{1,2}\\/\\d{1,2}\\/\\d{1,2})'\n",
    "        if re.match(expr,val):\n",
    "            if len(val)<10 and len(val)>1:\n",
    "                numeric.append(val)              \n",
    "    numeric = list(dict.fromkeys(numeric))\n",
    "    numeric = numeric[:-4]\n",
    "    [print(i,val) for i,val in enumerate(numeric)]\n",
    "    # Get Relevant Strings\n",
    "    #TO DO\n",
    "    #1) Filter Regex \n",
    "    #2) \n",
    "    def filter_regl(regex,biglist):\n",
    "        return [item for item in biglist if re.match(regex,item)]\n",
    "    def filter_lsubl(sList, bList):\n",
    "        return [itemB for itemB in bList for itemS in sList if re.match(itemS,itemB)]\n",
    "        \n",
    "    filter = [\"Previous\",\"Payments\",\"Credits\",\"Purchase\", \"Cash\",\"Interest\"]\n",
    "    # for i,val in enumerate(page_strings):\n",
    "    #     #expr = r'(Previous balance)'\n",
    "    #     expr = r'([\\w])'\n",
    "    #     #print(val)\n",
    "    #     if re.match(expr,val):\n",
    "    #         print(i,val)\n",
    "    page_string_words = filter_string_list(r'([\\w])',page_strings)\n",
    "    #print(page_string_words)\n",
    "    strings = filter_lsubl(filter,page_string_words)\n",
    "    strings =  strings[:-2]\n",
    "    #print(output)\n",
    "    #output = set(output) \n",
    "    #Output = [b for b in page_strings if all(a not in b for a in filter)] \n",
    "    #print('\\n',output)\n",
    "    [print(i,val) for i,val in enumerate(output)]\n",
    "    df = pd.DataFrame()\n",
    "    df[\"Amt_Type\"]=strings\n",
    "    #print(numeric)\n",
    "    df[\"Amt\"]=numeric\n",
    "    print(df)\n",
    "\n",
    " \n",
    "    # # #print(viewer.metadata)\n",
    "    # for canvas in viewer:\n",
    "    #     page_text = canvas.text_content\n",
    "    #     print(page_text)\n",
    "        \n",
    "        \n",
    "\n",
    "  "
   ]
  },
  {
   "cell_type": "code",
   "execution_count": null,
   "id": "739d3b87-e62e-4b58-ad35-83353574664c",
   "metadata": {},
   "outputs": [],
   "source": [
    "for table in tables:\n",
    "    print(table)\n"
   ]
  }
 ],
 "metadata": {
  "kernelspec": {
   "display_name": "Python 3 (ipykernel)",
   "language": "python",
   "name": "python3"
  },
  "language_info": {
   "codemirror_mode": {
    "name": "ipython",
    "version": 3
   },
   "file_extension": ".py",
   "mimetype": "text/x-python",
   "name": "python",
   "nbconvert_exporter": "python",
   "pygments_lexer": "ipython3",
   "version": "3.10.12"
  }
 },
 "nbformat": 4,
 "nbformat_minor": 5
}
