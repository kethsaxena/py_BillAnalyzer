{
 "cells": [
  {
   "cell_type": "code",
   "execution_count": 11,
   "id": "17d3917a-dde2-4327-9d37-7039ed316885",
   "metadata": {},
   "outputs": [],
   "source": [
    "from pdfreader import PDFDocument, SimplePDFViewer\n",
    "import pandas as pd\n",
    "import os\n",
    "import re"
   ]
  },
  {
   "cell_type": "code",
   "execution_count": 4,
   "id": "2df40b63-771a-460b-8433-2aea6318f9e6",
   "metadata": {},
   "outputs": [
    {
     "name": "stdout",
     "output_type": "stream",
     "text": [
      "/mnt/c/projects/python/01_billAnalyzer/jupyter-NBK\n"
     ]
    }
   ],
   "source": [
    "print(os.getcwd())"
   ]
  },
  {
   "cell_type": "code",
   "execution_count": 6,
   "id": "93d05bd9-9c32-4d73-8c0a-12ce26dfc685",
   "metadata": {},
   "outputs": [],
   "source": [
    "os.chdir(\"/mnt/c/projects/python/01_billAnalyzer/\")"
   ]
  },
  {
   "cell_type": "code",
   "execution_count": 38,
   "id": "aeb92733-508e-4b01-9561-d5308aca430a",
   "metadata": {},
   "outputs": [
    {
     "name": "stdout",
     "output_type": "stream",
     "text": [
      "/mnt/c/projects/python/01_billAnalyzer/data/09_September_Oct_2023.pdf\n"
     ]
    }
   ],
   "source": [
    "pdf_file = \"09_September_Oct_2023.pdf\"\n",
    "path=os.getcwd()+\"/data/\"+pdf_file\n",
    "print(path)"
   ]
  },
  {
   "cell_type": "code",
   "execution_count": 78,
   "id": "f32b1e54-e729-4d95-b3b6-ec6f0eae5d3e",
   "metadata": {},
   "outputs": [
    {
     "name": "stdout",
     "output_type": "stream",
     "text": [
      "['Your Monthly Statement', ' ', 'is Enclosed', 'Previous balance', '$2,589.12', 'Payments', '-', ' ', '$2,570.59', 'Credits', '-', ' ', '$18.53', 'Purchases', '+', ' ', '$2,193.75', 'Cash advances', '+', ' ', '$0.00', 'Fees', '+', ' ', '$0.00', 'Interest', '+', ' ', '$0.00', 'Credit Limit', ' ', '$8,900', 'Available Credit Limit', ' ', '$6,706', ' Your next AutoPay payment', \"may be reduced if you've made additional\", ' ', 'payments or received credits during the', ' ', 'current billing cycle that result in a credit', ' ', 'balance.', 'Account number ending in 7603', 'as', ' ', 'of', ' ', '09/19/23', ' ', 'Costco Anywhere Visa', ' ', 'Card', 'PO Box 790046 ST. LOUIS, MO 63179-0046', '1-855-378-6467, (TTY: 711)', 'Includes $2,700.00 cash advance limit', 'Includes $2,700 available for cash advance', 'PRAKETA SAXENA', ' ', '98 DEKALB AVE', ' ', 'RM 1', ' ', 'JERSEY CITY  NJ  07306-5703', 'Citi Cards', ' ', 'PO Box 70272', ' ', 'Philadelphia PA 19176-0272   ', 'Your Account is', ' ', 'enrolled in AutoPay.', '» See page 2 for more information', ' ', '   about your rewards', 'Please make check payable to Citi Cards.', 'New balance', '$2,193.75', 'Your next AutoPay payment of $2,193.75', ' ', 'will be deducted from your bank account', ' ', 'on 10/14/2023.', ' ', 'For Payments, send check to: Citi Cards, PO Box 70272, Philadelphia PA, 19176-0272', ' ', 'PO Box 790057', ' ', 'Saint Louis, MO 63179-0057', 'For information about credit counseling services, call 1-877-337-8187.', ' ', 'New York residents', ' ', 'may contact the New York State Department of Financial Services at (800) 342-3736 or', 'www.dfs.ny.gov', ' for free information on comparative credit card rates, fees and grace', 'periods.', 'Costco Cash', ' ', 'Rewards Summary', 'Member Since 2021  Account number ending in: 7603', 'Billing Period:', ' ', 'If we do not receive your minimum payment by the date', ' ', 'listed above, you may have to pay a late fee of up to $40 and your APRs may be', ' ', 'increased up to the Penalty APR of 29.99%.', 'PRAKETA SAXENA', '08/18/23-09/19/23', 'www.citicards.com', 'Late Payment Warning: ', 'Account Summary', 'Credit Limit', '®', ' ', 'Minimum payment due', ' ', '$35.00', 'New balance', '$2,193.75', 'Payment due date', '10/15/23', 'Amount enclosed: ', '$', 'SEPTEMBER  STATEMENT', 'Minimum payment due:', '$35.00', 'New balance as of 09/19/23:', '$2,193.75', 'Payment due date:', '10/15/23', '$296.63', '®', ' ', 'Costco Anywhere Visa', ' ', ' Card by Citi']\n",
      "0 $2,193.75\n",
      "1 $296.63\n",
      "2 $18.53\n",
      "3 $6,706\n",
      "4 $35.00\n",
      "5 $2,570.59\n",
      "6 $8,900\n",
      "7 $2,589.12\n",
      "0 Your Monthly Statement\n",
      "2 is Enclosed\n",
      "3 Previous balance\n",
      "5 Payments\n",
      "9 Credits\n",
      "13 Purchases\n",
      "17 Cash advances\n",
      "20 Fees\n",
      "23 Interest\n",
      "26 Credit Limit\n",
      "29 Available Credit Limit\n",
      "33 may be reduced if you've made additional\n",
      "35 payments or received credits during the\n",
      "37 current billing cycle that result in a credit\n",
      "39 balance.\n",
      "40 Account number ending in 7603\n",
      "41 as\n",
      "43 of\n",
      "45 09/19/23\n",
      "47 Costco Anywhere Visa\n",
      "49 Card\n",
      "50 PO Box 790046 ST. LOUIS, MO 63179-0046\n",
      "51 1-855-378-6467, (TTY: 711)\n",
      "52 Includes $2,700.00 cash advance limit\n",
      "53 Includes $2,700 available for cash advance\n",
      "54 PRAKETA SAXENA\n",
      "56 98 DEKALB AVE\n",
      "58 RM 1\n",
      "60 JERSEY CITY  NJ  07306-5703\n",
      "61 Citi Cards\n",
      "63 PO Box 70272\n",
      "65 Philadelphia PA 19176-0272   \n",
      "66 Your Account is\n",
      "68 enrolled in AutoPay.\n",
      "72 Please make check payable to Citi Cards.\n",
      "73 New balance\n",
      "75 Your next AutoPay payment of $2,193.75\n",
      "77 will be deducted from your bank account\n",
      "79 on 10/14/2023.\n",
      "81 For Payments, send check to: Citi Cards, PO Box 70272, Philadelphia PA, 19176-0272\n",
      "83 PO Box 790057\n",
      "85 Saint Louis, MO 63179-0057\n",
      "86 For information about credit counseling services, call 1-877-337-8187.\n",
      "88 New York residents\n",
      "90 may contact the New York State Department of Financial Services at (800) 342-3736 or\n",
      "91 www.dfs.ny.gov\n",
      "93 periods.\n",
      "94 Costco Cash\n",
      "96 Rewards Summary\n",
      "97 Member Since 2021  Account number ending in: 7603\n",
      "98 Billing Period:\n",
      "100 If we do not receive your minimum payment by the date\n",
      "102 listed above, you may have to pay a late fee of up to $40 and your APRs may be\n",
      "104 increased up to the Penalty APR of 29.99%.\n",
      "105 PRAKETA SAXENA\n",
      "106 08/18/23-09/19/23\n",
      "107 www.citicards.com\n",
      "108 Late Payment Warning: \n",
      "109 Account Summary\n",
      "110 Credit Limit\n",
      "113 Minimum payment due\n",
      "116 New balance\n",
      "118 Payment due date\n",
      "119 10/15/23\n",
      "120 Amount enclosed: \n",
      "122 SEPTEMBER  STATEMENT\n",
      "123 Minimum payment due:\n",
      "125 New balance as of 09/19/23:\n",
      "127 Payment due date:\n",
      "128 10/15/23\n",
      "132 Costco Anywhere Visa\n"
     ]
    }
   ],
   "source": [
    "with open(path, 'rb') as f:\n",
    "    # Create a PDF reader object\n",
    "    doc = PDFDocument(f)\n",
    "    all_pages = [p for p in doc.pages()]\n",
    "    viewer = SimplePDFViewer(f)\n",
    "    viewer.navigate(1)\n",
    "    viewer.render()\n",
    "    \n",
    "    #Extract Page 1 data \n",
    "    page_1_canvas = viewer.canvas\n",
    "    page_text = page_1_canvas.text_content\n",
    "    page_strings = page_1_canvas.strings \n",
    "    print(page_strings)\n",
    "    \n",
    "    #TO DO \n",
    "    # Clean Up Code \n",
    "    for i,val in enumerate(page_strings):\n",
    "        #expr = r'(Previous balance)'\n",
    "        expr = r'(\\$0.00)'\n",
    "        #print(val)\n",
    "        if re.match(expr,val):\n",
    "            page_strings.pop(i)\n",
    "    numeric =[]        \n",
    "    for i,val in enumerate(page_strings):\n",
    "        expr = r'([\\d$,.])(?!\\d{1,2}\\/\\d{1,2}\\/\\d{1,2})'\n",
    "        if re.match(expr,val):\n",
    "            if len(val)<10 and len(val)>1:\n",
    "                numeric.append(val)              \n",
    "    numeric = [num for num in set(numeric)]\n",
    "    [print(i,val) for i,val in enumerate(numeric)]\n",
    "    for i,val in enumerate(page_strings):\n",
    "        #expr = r'(Previous balance)'\n",
    "        expr = r'([\\w])'\n",
    "        #print(val)\n",
    "        if re.match(expr,val):\n",
    "            print(i,val)\n",
    "    # # #print(viewer.metadata)\n",
    "    # for canvas in viewer:\n",
    "    #     page_text = canvas.text_content\n",
    "    #     print(page_text)\n",
    "        \n",
    "        \n",
    "\n",
    "  "
   ]
  },
  {
   "cell_type": "code",
   "execution_count": null,
   "id": "739d3b87-e62e-4b58-ad35-83353574664c",
   "metadata": {},
   "outputs": [],
   "source": [
    "for table in tables:\n",
    "    print(table)\n"
   ]
  }
 ],
 "metadata": {
  "kernelspec": {
   "display_name": "Python 3 (ipykernel)",
   "language": "python",
   "name": "python3"
  },
  "language_info": {
   "codemirror_mode": {
    "name": "ipython",
    "version": 3
   },
   "file_extension": ".py",
   "mimetype": "text/x-python",
   "name": "python",
   "nbconvert_exporter": "python",
   "pygments_lexer": "ipython3",
   "version": "3.10.12"
  }
 },
 "nbformat": 4,
 "nbformat_minor": 5
}
