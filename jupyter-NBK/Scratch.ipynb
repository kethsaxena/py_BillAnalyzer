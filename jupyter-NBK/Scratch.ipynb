{
 "cells": [
  {
   "cell_type": "code",
   "execution_count": 1,
   "id": "17d3917a-dde2-4327-9d37-7039ed316885",
   "metadata": {},
   "outputs": [],
   "source": [
    "from pdfreader import PDFDocument, SimplePDFViewer\n",
    "import pandas as pd\n",
    "import os"
   ]
  },
  {
   "cell_type": "code",
   "execution_count": 2,
   "id": "2df40b63-771a-460b-8433-2aea6318f9e6",
   "metadata": {},
   "outputs": [
    {
     "name": "stdout",
     "output_type": "stream",
     "text": [
      "/mnt/c/projects/python/01_billAnalyzer/jupyter-NBK\n"
     ]
    }
   ],
   "source": [
    "print(os.getcwd())"
   ]
  },
  {
   "cell_type": "code",
   "execution_count": 3,
   "id": "93d05bd9-9c32-4d73-8c0a-12ce26dfc685",
   "metadata": {},
   "outputs": [],
   "source": [
    "os.chdir(\"/mnt/c/projects/python/01_billAnalyzer/\")"
   ]
  },
  {
   "cell_type": "code",
   "execution_count": 4,
   "id": "aeb92733-508e-4b01-9561-d5308aca430a",
   "metadata": {},
   "outputs": [
    {
     "name": "stdout",
     "output_type": "stream",
     "text": [
      "/mnt/c/projects/python/01_billAnalyzer/data/09_September_Oct_2023.pdf\n"
     ]
    }
   ],
   "source": [
    "pdf_file = \"09_September_Oct_2023.pdf\"\n",
    "path=os.getcwd()+\"/data/\"+pdf_file\n",
    "print(path)"
   ]
  },
  {
   "cell_type": "code",
   "execution_count": 13,
   "id": "f32b1e54-e729-4d95-b3b6-ec6f0eae5d3e",
   "metadata": {},
   "outputs": [
    {
     "name": "stdout",
     "output_type": "stream",
     "text": [
      "['Your Monthly Statement', ' ', 'is Enclosed', 'Previous balance', '$2,589.12', 'Payments', '-', ' ', '$2,570.59', 'Credits', '-', ' ', '$18.53', 'Purchases', '+', ' ', '$2,193.75', 'Cash advances', '+', ' ', '$0.00', 'Fees', '+', ' ', '$0.00', 'Interest', '+', ' ', '$0.00', 'Credit Limit', ' ', '$8,900', 'Available Credit Limit', ' ', '$6,706', ' Your next AutoPay payment', \"may be reduced if you've made additional\", ' ', 'payments or received credits during the', ' ', 'current billing cycle that result in a credit', ' ', 'balance.', 'Account number ending in 7603', 'as', ' ', 'of', ' ', '09/19/23', ' ', 'Costco Anywhere Visa', ' ', 'Card', 'PO Box 790046 ST. LOUIS, MO 63179-0046', '1-855-378-6467, (TTY: 711)', 'Includes $2,700.00 cash advance limit', 'Includes $2,700 available for cash advance', 'PRAKETA SAXENA', ' ', '98 DEKALB AVE', ' ', 'RM 1', ' ', 'JERSEY CITY  NJ  07306-5703', 'Citi Cards', ' ', 'PO Box 70272', ' ', 'Philadelphia PA 19176-0272   ', 'Your Account is', ' ', 'enrolled in AutoPay.', '» See page 2 for more information', ' ', '   about your rewards', 'Please make check payable to Citi Cards.', 'New balance', '$2,193.75', 'Your next AutoPay payment of $2,193.75', ' ', 'will be deducted from your bank account', ' ', 'on 10/14/2023.', ' ', 'For Payments, send check to: Citi Cards, PO Box 70272, Philadelphia PA, 19176-0272', ' ', 'PO Box 790057', ' ', 'Saint Louis, MO 63179-0057', 'For information about credit counseling services, call 1-877-337-8187.', ' ', 'New York residents', ' ', 'may contact the New York State Department of Financial Services at (800) 342-3736 or', 'www.dfs.ny.gov', ' for free information on comparative credit card rates, fees and grace', 'periods.', 'Costco Cash', ' ', 'Rewards Summary', 'Member Since 2021  Account number ending in: 7603', 'Billing Period:', ' ', 'If we do not receive your minimum payment by the date', ' ', 'listed above, you may have to pay a late fee of up to $40 and your APRs may be', ' ', 'increased up to the Penalty APR of 29.99%.', 'PRAKETA SAXENA', '08/18/23-09/19/23', 'www.citicards.com', 'Late Payment Warning: ', 'Account Summary', 'Credit Limit', '®', ' ', 'Minimum payment due', ' ', '$35.00', 'New balance', '$2,193.75', 'Payment due date', '10/15/23', 'Amount enclosed: ', '$', 'SEPTEMBER  STATEMENT', 'Minimum payment due:', '$35.00', 'New balance as of 09/19/23:', '$2,193.75', 'Payment due date:', '10/15/23', '$296.63', '®', ' ', 'Costco Anywhere Visa', ' ', ' Card by Citi']\n"
     ]
    }
   ],
   "source": [
    "with open(path, 'rb') as f:\n",
    "    # Create a PDF reader object\n",
    "    doc = PDFDocument(f)\n",
    "    #print(doc.header.version)\n",
    "\n",
    "    all_pages = [p for p in doc.pages()]\n",
    "    #print(len(all_pages))\n",
    "\n",
    "    viewer = SimplePDFViewer(f)\n",
    "    viewer.navigate(1)\n",
    "    viewer.render()\n",
    "    page_1_canvas = viewer.canvas\n",
    "    page_text = page_1_canvas.text_content\n",
    "    #print(page_text)\n",
    "\n",
    "    page_strings = page_1_canvas.strings \n",
    "    print(page_strings)\n",
    "\n",
    "    # #print(viewer.metadata)\n",
    "    # for canvas in viewer:\n",
    "    #     page_text = canvas.text_content\n",
    "    #     print(page_text)\n",
    "        \n",
    "        \n",
    "\n",
    "  "
   ]
  },
  {
   "cell_type": "code",
   "execution_count": null,
   "id": "739d3b87-e62e-4b58-ad35-83353574664c",
   "metadata": {},
   "outputs": [],
   "source": [
    "for table in tables:\n",
    "    print(table)\n"
   ]
  }
 ],
 "metadata": {
  "kernelspec": {
   "display_name": "Python 3 (ipykernel)",
   "language": "python",
   "name": "python3"
  },
  "language_info": {
   "codemirror_mode": {
    "name": "ipython",
    "version": 3
   },
   "file_extension": ".py",
   "mimetype": "text/x-python",
   "name": "python",
   "nbconvert_exporter": "python",
   "pygments_lexer": "ipython3",
   "version": "3.10.12"
  }
 },
 "nbformat": 4,
 "nbformat_minor": 5
}
